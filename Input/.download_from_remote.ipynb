{
 "cells": [
  {
   "cell_type": "code",
   "execution_count": 1,
   "outputs": [],
   "source": [
    "credentials_file = \".encrypted_credentials\""
   ],
   "metadata": {
    "collapsed": false,
    "ExecuteTime": {
     "end_time": "2023-11-16T10:15:02.239329900Z",
     "start_time": "2023-11-16T10:15:02.220380Z"
    }
   },
   "id": "b1900d6acba5ab60"
  },
  {
   "cell_type": "code",
   "execution_count": 2,
   "outputs": [],
   "source": [
    "key = input(\"Inserire la chiave di cifratura: \")"
   ],
   "metadata": {
    "collapsed": false,
    "ExecuteTime": {
     "end_time": "2023-11-16T10:15:05.919062700Z",
     "start_time": "2023-11-16T10:15:02.238332600Z"
    }
   },
   "id": "345a1fbfb6c55e9d"
  },
  {
   "cell_type": "code",
   "execution_count": 3,
   "outputs": [],
   "source": [
    "out_folder = \"dataset\""
   ],
   "metadata": {
    "collapsed": false,
    "ExecuteTime": {
     "end_time": "2023-11-16T10:15:08.271770700Z",
     "start_time": "2023-11-16T10:15:08.256810200Z"
    }
   },
   "id": "c96ca0ee9428becd"
  },
  {
   "cell_type": "code",
   "execution_count": 4,
   "outputs": [],
   "source": [
    "from cryptography.fernet import Fernet\n",
    "import json\n",
    "\n",
    "def decrypt_credentials(encrypted_credentials_path, key):\n",
    "    with open(encrypted_credentials_path, 'rb') as file:\n",
    "        encrypted_credentials = file.read()\n",
    "\n",
    "    cipher_suite = Fernet(key)\n",
    "    decrypted_credentials = cipher_suite.decrypt(encrypted_credentials)\n",
    "\n",
    "    return decrypted_credentials\n",
    "\n",
    "decrypted_credentials = decrypt_credentials(credentials_file, key.encode())\n",
    "credentials_dict = json.loads(decrypted_credentials.decode('utf-8'))"
   ],
   "metadata": {
    "collapsed": false,
    "ExecuteTime": {
     "end_time": "2023-11-16T10:15:08.876153900Z",
     "start_time": "2023-11-16T10:15:08.782404500Z"
    }
   },
   "id": "f41f15852cb9dae1"
  },
  {
   "cell_type": "code",
   "execution_count": 8,
   "outputs": [
    {
     "name": "stdout",
     "output_type": "stream",
     "text": [
      "Download dell'intera cartella completato!\n"
     ]
    }
   ],
   "source": [
    "import os\n",
    "from googleapiclient.discovery import build\n",
    "from google.oauth2 import service_account\n",
    "from googleapiclient.http import MediaIoBaseDownload\n",
    "import io\n",
    "\n",
    "\n",
    "credentials = service_account.Credentials.from_service_account_info(\n",
    "    credentials_dict,\n",
    "    scopes=['https://www.googleapis.com/auth/drive'],\n",
    ")\n",
    "\n",
    "drive_service = build('drive', 'v3', credentials=credentials)\n",
    "\n",
    "folder_id = '1MB_jsX3ydVCDXmf-48leE0BTigY4tMGW'\n",
    "\n",
    "def download_files(drive_service, folder_id, output_dir, c):\n",
    "    page_token = None\n",
    "    while True:\n",
    "        response = drive_service.files().list(\n",
    "            q=f\"'{folder_id}' in parents\",\n",
    "            spaces='drive',\n",
    "            fields='nextPageToken, files(id, name, mimeType)',\n",
    "            pageToken=page_token\n",
    "        ).execute()\n",
    "\n",
    "\n",
    "        for file in response.get('files', []):\n",
    "            file_id = file['id']\n",
    "            file_name = file['name']\n",
    "            mime_type = file['mimeType']\n",
    "\n",
    "            if mime_type == 'application/vnd.google-apps.folder':\n",
    "                download_files(drive_service, file_id, os.path.join(output_dir, file_name), c)\n",
    "            else:\n",
    "                request = drive_service.files().get_media(fileId=file_id)\n",
    "                file_path = os.path.join(output_dir, file_name)\n",
    "                if not os.path.exists(file_path):\n",
    "                    fh = io.FileIO(file_path, 'wb')\n",
    "                    downloader = MediaIoBaseDownload(fh, request, chunksize=10*1024*1024)\n",
    "                    downloader.timeout = 2000\n",
    "                    done = False\n",
    "                    while not done:\n",
    "                        try:\n",
    "                            status, done = downloader.next_chunk()\n",
    "                            print(f\"Download {file_name}: {int(status.progress() * 100)}% [{c}]\")\n",
    "                        except:\n",
    "                            print(f\"\\t\\t\\t->Errore durante il download di {file_name} [{c}]\")\n",
    "                            fh.close()\n",
    "                    fh.close()\n",
    "                c+=1\n",
    "                \n",
    "\n",
    "        page_token = response.get('nextPageToken', None)\n",
    "        if page_token is None:\n",
    "            break\n",
    "\n",
    "c = 1\n",
    "download_files(drive_service, folder_id, out_folder, c)\n",
    "print(\"Download dell'intera cartella completato!\")"
   ],
   "metadata": {
    "collapsed": false,
    "ExecuteTime": {
     "end_time": "2023-11-16T11:08:46.407323900Z",
     "start_time": "2023-11-16T11:08:28.917151500Z"
    }
   },
   "id": "803962e255adf64d"
  }
 ],
 "metadata": {
  "kernelspec": {
   "display_name": "Python 3",
   "language": "python",
   "name": "python3"
  },
  "language_info": {
   "codemirror_mode": {
    "name": "ipython",
    "version": 2
   },
   "file_extension": ".py",
   "mimetype": "text/x-python",
   "name": "python",
   "nbconvert_exporter": "python",
   "pygments_lexer": "ipython2",
   "version": "2.7.6"
  }
 },
 "nbformat": 4,
 "nbformat_minor": 5
}
