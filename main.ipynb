{
 "cells": [
  {
   "cell_type": "code",
   "execution_count": 2,
   "outputs": [
    {
     "ename": "NotFoundDirectoryException",
     "evalue": "Invalid path. ./data does not exist.",
     "output_type": "error",
     "traceback": [
      "\u001B[1;31m---------------------------------------------------------------------------\u001B[0m",
      "\u001B[1;31mNotFoundDirectoryException\u001B[0m                Traceback (most recent call last)",
      "Cell \u001B[1;32mIn[2], line 3\u001B[0m\n\u001B[0;32m      1\u001B[0m \u001B[38;5;28;01mfrom\u001B[39;00m \u001B[38;5;21;01mutils\u001B[39;00m\u001B[38;5;21;01m.\u001B[39;00m\u001B[38;5;21;01mdata\u001B[39;00m\u001B[38;5;21;01m.\u001B[39;00m\u001B[38;5;21;01mdataimage\u001B[39;00m \u001B[38;5;28;01mimport\u001B[39;00m DataImage\n\u001B[1;32m----> 3\u001B[0m trainset \u001B[38;5;241m=\u001B[39m \u001B[43mDataImage\u001B[49m\u001B[43m(\u001B[49m\u001B[43m)\u001B[49m\n",
      "File \u001B[1;32m~\\DataspellProjects\\Electronic-Components-AI-Detection\\utils\\data\\dataimage.py:55\u001B[0m, in \u001B[0;36mDataImage.__init__\u001B[1;34m(self, data_path, split, transform, normalize, mean, std, name)\u001B[0m\n\u001B[0;32m     53\u001B[0m             \u001B[38;5;28;01mraise\u001B[39;00m NotCorrectImageFormatException(f)\n\u001B[0;32m     54\u001B[0m \u001B[38;5;28;01melse\u001B[39;00m:\n\u001B[1;32m---> 55\u001B[0m     \u001B[38;5;28;01mraise\u001B[39;00m NotFoundDirectoryException(\u001B[38;5;28mself\u001B[39m\u001B[38;5;241m.\u001B[39mdata_path)\n\u001B[0;32m     57\u001B[0m \u001B[38;5;28mself\u001B[39m\u001B[38;5;241m.\u001B[39msplit \u001B[38;5;241m=\u001B[39m split\u001B[38;5;241m.\u001B[39mlower()\n\u001B[0;32m     58\u001B[0m \u001B[38;5;28;01mif\u001B[39;00m \u001B[38;5;28mself\u001B[39m\u001B[38;5;241m.\u001B[39msplit \u001B[38;5;129;01mnot\u001B[39;00m \u001B[38;5;129;01min\u001B[39;00m [\u001B[38;5;124m\"\u001B[39m\u001B[38;5;124mtrain\u001B[39m\u001B[38;5;124m\"\u001B[39m, \u001B[38;5;124m\"\u001B[39m\u001B[38;5;124mtest\u001B[39m\u001B[38;5;124m\"\u001B[39m]:\n",
      "\u001B[1;31mNotFoundDirectoryException\u001B[0m: Invalid path. ./data does not exist."
     ]
    }
   ],
   "source": [
    "from utils.data.dataimage import DataImage\n",
    "\n",
    "trainset = DataImage()"
   ],
   "metadata": {
    "collapsed": false,
    "ExecuteTime": {
     "end_time": "2023-11-03T10:33:27.934052300Z",
     "start_time": "2023-11-03T10:33:24.611191Z"
    }
   },
   "id": "initial_id"
  }
 ],
 "metadata": {
  "kernelspec": {
   "display_name": "Python 3",
   "language": "python",
   "name": "python3"
  },
  "language_info": {
   "codemirror_mode": {
    "name": "ipython",
    "version": 2
   },
   "file_extension": ".py",
   "mimetype": "text/x-python",
   "name": "python",
   "nbconvert_exporter": "python",
   "pygments_lexer": "ipython2",
   "version": "2.7.6"
  }
 },
 "nbformat": 4,
 "nbformat_minor": 5
}
