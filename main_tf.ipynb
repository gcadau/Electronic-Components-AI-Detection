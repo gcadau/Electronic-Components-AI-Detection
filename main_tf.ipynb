{
 "cells": [
  {
   "cell_type": "code",
   "execution_count": 24,
   "outputs": [],
   "source": [
    "import numpy as np\n",
    "import os\n",
    "import PIL\n",
    "import PIL.Image\n",
    "import tensorflow as tf"
   ],
   "metadata": {
    "collapsed": false,
    "ExecuteTime": {
     "end_time": "2023-11-09T18:56:23.466876800Z",
     "start_time": "2023-11-09T18:56:23.433457500Z"
    }
   },
   "id": "2f966b91bdd010e9"
  },
  {
   "cell_type": "code",
   "execution_count": 24,
   "outputs": [],
   "source": [],
   "metadata": {
    "collapsed": false,
    "ExecuteTime": {
     "end_time": "2023-11-09T18:56:23.604018800Z",
     "start_time": "2023-11-09T18:56:23.592052200Z"
    }
   },
   "id": "89bb09314189d4d7"
  },
  {
   "cell_type": "code",
   "execution_count": 25,
   "outputs": [],
   "source": [
    "SEPARATOR = \"_\"\n",
    "LABEL_ID = 0\n",
    "def get_class_names(dataset):\n",
    "    return set([str(os.path.basename(el.numpy())).split(SEPARATOR)[LABEL_ID] for el in dataset])"
   ],
   "metadata": {
    "collapsed": false,
    "ExecuteTime": {
     "end_time": "2023-11-09T18:56:23.780290100Z",
     "start_time": "2023-11-09T18:56:23.748865600Z"
    }
   },
   "id": "3f77e65e68c1e5b4"
  },
  {
   "cell_type": "code",
   "execution_count": 26,
   "outputs": [],
   "source": [
    "def get_label(file_path):\n",
    "    # Convert the path to a list of path components\n",
    "    parts = tf.strings.split(file_path, os.path.sep)\n",
    "    # The second to last is the class-directory\n",
    "    one_hot = parts[-2] == class_names\n",
    "    # Integer encode the label\n",
    "    return tf.argmax(one_hot)"
   ],
   "metadata": {
    "collapsed": false,
    "ExecuteTime": {
     "end_time": "2023-11-09T18:56:24.175269600Z",
     "start_time": "2023-11-09T18:56:24.158808100Z"
    }
   },
   "id": "f4550be70de531fb"
  },
  {
   "cell_type": "code",
   "execution_count": 27,
   "outputs": [],
   "source": [
    "data_path=\"Input/dataset\""
   ],
   "metadata": {
    "collapsed": false,
    "ExecuteTime": {
     "end_time": "2023-11-09T18:56:24.652045Z",
     "start_time": "2023-11-09T18:56:24.629107500Z"
    }
   },
   "id": "b90fadb8ecc63307"
  },
  {
   "cell_type": "code",
   "execution_count": 28,
   "outputs": [],
   "source": [
    "ds = tf.data.Dataset.list_files(f\"{data_path}\\\\*\", shuffle=False)\n",
    "classes = get_class_names(ds)\n",
    "ds = ds.shuffle(len(ds), reshuffle_each_iteration=False)"
   ],
   "metadata": {
    "collapsed": false,
    "ExecuteTime": {
     "end_time": "2023-11-09T18:56:25.478461300Z",
     "start_time": "2023-11-09T18:56:25.223605200Z"
    }
   },
   "id": "2d8a27c0a3fa8cc3"
  },
  {
   "cell_type": "code",
   "execution_count": 29,
   "outputs": [
    {
     "data": {
      "text/plain": "{\"b'0805S\",\n \"b'AUTIC\",\n \"b'C0603\",\n \"b'C0805\",\n \"b'C1210\",\n \"b'CAPACITOR\",\n \"b'CASEC\",\n \"b'CONNECTOR\",\n \"b'CTELRJ45\",\n \"b'DIGITAL\",\n \"b'DIODE\",\n \"b'FUSE\",\n \"b'GATE\",\n \"b'INDUCTANCE\",\n \"b'JUMPER\",\n \"b'LED\",\n \"b'LED3\",\n \"b'MINIMELF\",\n \"b'MOS\",\n \"b'OPENFIX\",\n \"b'OPTOISOLATOR\",\n \"b'OSCILLATOR\",\n \"b'PINSMD\",\n \"b'PINTH\",\n \"b'PLCC2LED\",\n \"b'R01005\",\n \"b'R0402\",\n \"b'R0603\",\n \"b'R0805\",\n \"b'R10\",\n \"b'R110H126\",\n \"b'R1206\",\n \"b'R20\",\n \"b'R2512\",\n \"b'R63H40\",\n \"b'RELAIS\",\n \"b'RESISTOR\",\n \"b'S5SOT23\",\n \"b'SCR\",\n \"b'SFUSE\",\n \"b'SMB\",\n \"b'SO16\",\n \"b'SO8\",\n \"b'STRIP3\",\n \"b'STRIP6\",\n \"b'TRANSFORMER\",\n \"b'TRANSISTOR\",\n \"b'TRIAC\",\n \"b'VOLTAGEREGULATOR\",\n \"b'WSK2512\",\n \"b'X18Y4\",\n \"b'X43Y55\",\n \"b'X4Y18\",\n \"b'X50Y65\",\n \"b'X63H40\",\n \"b'X8Y11\",\n \"b'ZENER\"}"
     },
     "execution_count": 29,
     "metadata": {},
     "output_type": "execute_result"
    }
   ],
   "source": [
    "classes"
   ],
   "metadata": {
    "collapsed": false,
    "ExecuteTime": {
     "end_time": "2023-11-09T18:56:26.147869400Z",
     "start_time": "2023-11-09T18:56:26.127923400Z"
    }
   },
   "id": "bfaccdec172b1a11"
  },
  {
   "cell_type": "code",
   "execution_count": 7,
   "outputs": [],
   "source": [
    "val_perc = 0.2\n",
    "train_ds = ds.skip(int(len(ds)*val_perc))\n",
    "val_ds = ds.take(int(len(ds)*val_perc))\n"
   ],
   "metadata": {
    "collapsed": false,
    "ExecuteTime": {
     "end_time": "2023-11-09T18:21:53.604940600Z",
     "start_time": "2023-11-09T18:21:53.586984100Z"
    }
   },
   "id": "b0da625bb6f90d4"
  },
  {
   "cell_type": "code",
   "execution_count": 8,
   "outputs": [
    {
     "data": {
      "text/plain": "(60, 14)"
     },
     "execution_count": 8,
     "metadata": {},
     "output_type": "execute_result"
    }
   ],
   "source": [
    "len(train_ds), len(val_ds)"
   ],
   "metadata": {
    "collapsed": false,
    "ExecuteTime": {
     "end_time": "2023-11-09T18:21:53.755581800Z",
     "start_time": "2023-11-09T18:21:53.740623600Z"
    }
   },
   "id": "1a00f517da158ad1"
  }
 ],
 "metadata": {
  "kernelspec": {
   "display_name": "Python 3",
   "language": "python",
   "name": "python3"
  },
  "language_info": {
   "codemirror_mode": {
    "name": "ipython",
    "version": 2
   },
   "file_extension": ".py",
   "mimetype": "text/x-python",
   "name": "python",
   "nbconvert_exporter": "python",
   "pygments_lexer": "ipython2",
   "version": "2.7.6"
  }
 },
 "nbformat": 4,
 "nbformat_minor": 5
}
