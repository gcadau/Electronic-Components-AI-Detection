{
 "cells": [
  {
   "cell_type": "code",
   "execution_count": 1,
   "id": "initial_id",
   "metadata": {
    "collapsed": true,
    "ExecuteTime": {
     "end_time": "2023-11-25T08:12:20.679061900Z",
     "start_time": "2023-11-25T08:12:19.560065800Z"
    }
   },
   "outputs": [],
   "source": [
    "from algorithm.utils.data.tf.dataimage import DataImage\n",
    "import tensorflow as tf\n",
    "import keras\n",
    "%load_ext tensorboard\n"
   ]
  },
  {
   "cell_type": "code",
   "execution_count": null,
   "outputs": [],
   "source": [
    "%tensorboard --logdir out/models/ResNet1_1/tensorboard_log"
   ],
   "metadata": {
    "collapsed": false
   },
   "id": "bcc1914f8c0c0d7a"
  }
 ],
 "metadata": {
  "kernelspec": {
   "display_name": "Python 3",
   "language": "python",
   "name": "python3"
  },
  "language_info": {
   "codemirror_mode": {
    "name": "ipython",
    "version": 2
   },
   "file_extension": ".py",
   "mimetype": "text/x-python",
   "name": "python",
   "nbconvert_exporter": "python",
   "pygments_lexer": "ipython2",
   "version": "2.7.6"
  }
 },
 "nbformat": 4,
 "nbformat_minor": 5
}
