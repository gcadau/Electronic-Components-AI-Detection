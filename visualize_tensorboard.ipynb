{
 "cells": [
  {
   "cell_type": "code",
   "execution_count": 3,
   "id": "initial_id",
   "metadata": {
    "collapsed": true,
    "ExecuteTime": {
     "end_time": "2023-12-03T15:03:45.202417200Z",
     "start_time": "2023-12-03T15:03:44.972558100Z"
    }
   },
   "outputs": [
    {
     "name": "stdout",
     "output_type": "stream",
     "text": [
      "The tensorboard extension is already loaded. To reload it, use:\n",
      "  %reload_ext tensorboard\n"
     ]
    }
   ],
   "source": [
    "from algorithm.utils.data.tf.dataimage import DataImage\n",
    "import tensorflow as tf\n",
    "import keras\n",
    "%load_ext tensorboard\n"
   ]
  },
  {
   "cell_type": "code",
   "execution_count": null,
   "outputs": [],
   "source": [
    "%tensorboard --logdir out/models/ResNet2__0_2_1/tensorboard_log"
   ],
   "metadata": {
    "collapsed": false
   },
   "id": "bcc1914f8c0c0d7a"
  },
  {
   "cell_type": "markdown",
   "source": [
    "http://localhost:6006/"
   ],
   "metadata": {
    "collapsed": false
   },
   "id": "8812d4141d51332"
  }
 ],
 "metadata": {
  "kernelspec": {
   "display_name": "Python 3",
   "language": "python",
   "name": "python3"
  },
  "language_info": {
   "codemirror_mode": {
    "name": "ipython",
    "version": 2
   },
   "file_extension": ".py",
   "mimetype": "text/x-python",
   "name": "python",
   "nbconvert_exporter": "python",
   "pygments_lexer": "ipython2",
   "version": "2.7.6"
  }
 },
 "nbformat": 4,
 "nbformat_minor": 5
}
